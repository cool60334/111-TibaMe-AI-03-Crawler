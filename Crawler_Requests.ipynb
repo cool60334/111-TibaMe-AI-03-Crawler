{
  "nbformat": 4,
  "nbformat_minor": 0,
  "metadata": {
    "colab": {
      "provenance": [],
      "authorship_tag": "ABX9TyM1wCPzeUlqaZokzkrx3ZNa",
      "include_colab_link": true
    },
    "kernelspec": {
      "name": "python3",
      "display_name": "Python 3"
    },
    "language_info": {
      "name": "python"
    }
  },
  "cells": [
    {
      "cell_type": "markdown",
      "metadata": {
        "id": "view-in-github",
        "colab_type": "text"
      },
      "source": [
        "<a href=\"https://colab.research.google.com/github/cool60334/111-TibaMe-AI-03-Crawler/blob/main/Crawler_Requests.ipynb\" target=\"_parent\"><img src=\"https://colab.research.google.com/assets/colab-badge.svg\" alt=\"Open In Colab\"/></a>"
      ]
    },
    {
      "cell_type": "markdown",
      "source": [
        "# 網頁呼叫方式"
      ],
      "metadata": {
        "id": "PZyI6w8BSb1A"
      }
    },
    {
      "cell_type": "markdown",
      "source": [
        "**原理**\n",
        "\n",
        "\n",
        "*   [瀏覽器]使用者輸入網址 -> 連入指定伺服器 -> [伺服器]分析後執行動作 -> [瀏覽器]傳結果到瀏覽器執行\n",
        "\n"
      ],
      "metadata": {
        "id": "p_V5Cd1YQuIa"
      }
    },
    {
      "cell_type": "markdown",
      "source": [
        "## [常用]get -> 根據你送出的需求，取得伺服器回傳的資料"
      ],
      "metadata": {
        "id": "Sx1_O0CmSLDB"
      }
    },
    {
      "cell_type": "code",
      "execution_count": null,
      "metadata": {
        "id": "Xx-6dJeDPD7_"
      },
      "outputs": [],
      "source": [
        "import requests\n",
        "\n",
        "# 操作變數\n",
        "\n",
        "r = requests.get(\"https://www.mol.gov.tw/\"\n",
        "\n",
        "# headers -> 標頭資訊，對方傳伺服器資訊、網頁格式；我們傳作業系統、瀏覽器資訊\n",
        "# params -> 網址的參數(參數)\n",
        "# (post, put, delete時使用) data -> 傳遞的資料；json -> 以json格式傳遞的資料 (二選一，兩個都寫會傳data)\n",
        "\n",
        "          \n",
        "          )"
      ]
    },
    {
      "cell_type": "markdown",
      "source": [
        "狀態代碼"
      ],
      "metadata": {
        "id": "6cK26K6Bv11Y"
      }
    },
    {
      "cell_type": "code",
      "source": [
        "# 狀態代碼\n",
        "\n",
        "s = r.status_code\n",
        "print(f\"狀態代碼: {s}\")"
      ],
      "metadata": {
        "colab": {
          "base_uri": "https://localhost:8080/"
        },
        "id": "9yXPZzufsEz9",
        "outputId": "84b4afd0-24ae-4726-ce5e-ad80fd19345a"
      },
      "execution_count": null,
      "outputs": [
        {
          "output_type": "stream",
          "name": "stdout",
          "text": [
            "狀態代碼: 200\n"
          ]
        }
      ]
    },
    {
      "cell_type": "markdown",
      "source": [
        "標頭資訊"
      ],
      "metadata": {
        "id": "-EWp5r2Jv41B"
      }
    },
    {
      "cell_type": "code",
      "source": [
        "# 標頭資訊(字典型態)\n",
        "\n",
        "h = r.headers\n",
        "# for k in h:\n",
        "#   print(f\"標頭名稱: {k}, 標頭內容: {h[k]}\")\n",
        "\n",
        "# 方法二\n",
        "# for k, v in r.headers.items():\n",
        "#   print(k, \"->\", v)"
      ],
      "metadata": {
        "id": "pUL6KCYIsGnz"
      },
      "execution_count": null,
      "outputs": []
    },
    {
      "cell_type": "markdown",
      "source": [
        "網頁編碼"
      ],
      "metadata": {
        "id": "Ve8TeJZ1v60X"
      }
    },
    {
      "cell_type": "code",
      "source": [
        "# 網頁編碼\n",
        "\n",
        "e = r.encoding\n",
        "print(f\"網頁編碼: {e}\")"
      ],
      "metadata": {
        "colab": {
          "base_uri": "https://localhost:8080/"
        },
        "id": "xTK6p-O4sKe7",
        "outputId": "7a09b612-fd62-47c6-c49a-4d7154bc29bc"
      },
      "execution_count": null,
      "outputs": [
        {
          "output_type": "stream",
          "name": "stdout",
          "text": [
            "網頁編碼: utf-8\n"
          ]
        }
      ]
    },
    {
      "cell_type": "markdown",
      "source": [
        "以文字型態讀取html"
      ],
      "metadata": {
        "id": "5SraekS3wA-v"
      }
    },
    {
      "cell_type": "code",
      "source": [
        "# 以純文字型態讀取，會自動做編碼轉換\n",
        "\n",
        "t = r.text"
      ],
      "metadata": {
        "id": "2D-O4GRUsMYE"
      },
      "execution_count": null,
      "outputs": []
    },
    {
      "cell_type": "markdown",
      "source": [
        "下載網頁中的圖片"
      ],
      "metadata": {
        "id": "nVWXH5lXwHJ4"
      }
    },
    {
      "cell_type": "code",
      "source": [
        "# 資料的原始型態，可讀二進位資料\n",
        "\n",
        "import codecs  # 編碼處理較完整的寫入檔案套件\n",
        "\n",
        "pic_r = requests.get(\"https://www.mol.gov.tw/media/lwrkfiey/%E5%AE%B6%E4%BA%8B%E7%A7%BB%E5%B7%A5%E8%AA%BF%E8%96%AA%E8%BC%AA%E6%92%AD%E5%9C%96.jpg\",\n",
        "            params = {\"height\": \"500\"})\n",
        "\n",
        "# 將後面參數合在一起也可以\n",
        "# pic_r = requests.get(\"https://www.mol.gov.tw/media/lwrkfiey/%E5%AE%B6%E4%BA%8B%E7%A7%BB%E5%B7%A5%E8%AA%BF%E8%96%AA%E8%BC%AA%E6%92%AD%E5%9C%96.jpg?height=500\")\n",
        "\n",
        "c = pic_r.content\n",
        "\n",
        "# 將勞動部官網的圖片儲存成檔案\n",
        "\n",
        "with codecs.open(\"pic.jpg\", \"wb\") as p:  # wb -> 針對二進位資料\n",
        "  p.write(c)"
      ],
      "metadata": {
        "id": "5tcG-xEfsQyy"
      },
      "execution_count": null,
      "outputs": []
    },
    {
      "cell_type": "code",
      "source": [
        "# r.json -> 以json型態讀取"
      ],
      "metadata": {
        "id": "ErFfJSQywPRG"
      },
      "execution_count": null,
      "outputs": []
    },
    {
      "cell_type": "markdown",
      "source": [
        "用for迴圈抓大量網頁html"
      ],
      "metadata": {
        "id": "0EdcsKAg8eHX"
      }
    },
    {
      "cell_type": "code",
      "source": [
        "for i in range(1, 11):\n",
        "  \n",
        "  # 取得伺服器回傳的資料\n",
        "\n",
        "  r = requests.get(\"https://www.mol.gov.tw/1607/1632/1633/lpsimplelist\",\n",
        "            params = (\n",
        "                  {\"Page\": i, \n",
        "                  \"PageSize\": \"10\"}\n",
        "                  )\n",
        "            )\n",
        "  \n",
        "  # 以純文字型態讀取資料\n",
        "  t = r.text\n",
        "\n",
        "  with codecs.open(\"news\" + str(i) + \".html\", \"w\", encoding = \"utf-8\") as f:\n",
        "    f.write(t)"
      ],
      "metadata": {
        "id": "h1woDIMN8oFf"
      },
      "execution_count": null,
      "outputs": []
    },
    {
      "cell_type": "markdown",
      "source": [
        "# [常用]post -> 新增資料到伺服器，伺服器再將結果傳回來，例如：登入、發文"
      ],
      "metadata": {
        "id": "SWXtOvfMaiT5"
      }
    },
    {
      "cell_type": "markdown",
      "source": [
        "以post的方式登入老師的教學網站"
      ],
      "metadata": {
        "id": "wuCzWecfazNW"
      }
    },
    {
      "cell_type": "code",
      "source": [
        "import requests\n",
        "\n",
        "r1 = requests.post(\"http://teaching.bo-yuan.net/\",\n",
        "\n",
        "    # 網站參數           \n",
        "    params={\"ex\":\"login\"}, \n",
        "    \n",
        "    # 傳遞資料(課程，用戶名稱，密碼)\n",
        "    data={\n",
        "        \"ex[class]\":\"632ec67d1f521\",\n",
        "        \"ex[username]\":\"10莊宗庭\",\n",
        "        \"ex[password]\":\"d26ceb\"\n",
        "        },\n",
        "    \n",
        "    # 標頭資訊\n",
        "    headers={\n",
        "        \"Cookie\":\"PHPSESSID=e8r2ipjeac3bp7elsui6ruhdk6\",  # 紀錄帳密資訊\n",
        "        \"Referer\":\"http://teaching.bo-yuan.net/\"  # 紀錄原本來的網頁，登入後自動導回\n",
        "        }\n",
        "        \n",
        "        \n",
        "        )\n",
        "\n",
        "# print(r1.text)"
      ],
      "metadata": {
        "id": "axKvJAa2amxK"
      },
      "execution_count": null,
      "outputs": []
    },
    {
      "cell_type": "markdown",
      "source": [
        "# 其他呼叫方式\n",
        "*   put -> 更新伺服器的資料，伺服器再將結果傳回來\n",
        "*   delete -> 刪除伺服器的資料，伺服器再將結果傳回來"
      ],
      "metadata": {
        "id": "mYMxmUUESwK_"
      }
    },
    {
      "cell_type": "markdown",
      "source": [
        "# codecs套件\n",
        "編碼處理較完整的寫入檔案套件"
      ],
      "metadata": {
        "id": "ir_WIZ9ttkPy"
      }
    },
    {
      "cell_type": "code",
      "source": [
        "import codecs\n",
        "\n",
        "e = r.encoding  # 網頁編碼\n",
        "t = r.text  # 以純文字型態讀取，會自動做編碼轉換\n",
        "\n",
        "# 將勞動部官網的html儲存成檔案\n",
        "\n",
        "with codecs.open(\"勞動部官網.html\", \"w\", encoding = e) as f:\n",
        "  f.write(t)"
      ],
      "metadata": {
        "id": "mVI27SextnZu"
      },
      "execution_count": null,
      "outputs": []
    }
  ]
}